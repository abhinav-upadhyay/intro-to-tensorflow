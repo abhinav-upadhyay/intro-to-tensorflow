{
 "cells": [
  {
   "cell_type": "markdown",
   "metadata": {
    "nbpresent": {
     "id": "919455e2-a1a3-4b85-b03e-851642bdae3e"
    }
   },
   "source": [
    "## What is TensorFlow?"
   ]
  },
  {
   "cell_type": "markdown",
   "metadata": {
    "nbpresent": {
     "id": "c2bae40e-3c4b-400b-b8ba-4f45f6f499ba"
    }
   },
   "source": [
    "* An open source numerical computation library from Google\n",
    "* Computations are repersented in the form of a data flow graph\n",
    "* Targetted primarily for deep learning applications"
   ]
  },
  {
   "cell_type": "markdown",
   "metadata": {
    "nbpresent": {
     "id": "614a98d7-01e0-428b-9ce5-105c3a8237f2"
    }
   },
   "source": [
    "## How does it work"
   ]
  },
  {
   "cell_type": "markdown",
   "metadata": {
    "nbpresent": {
     "id": "63356ef0-a048-4c29-a599-3ad7aeffa58b"
    }
   },
   "source": [
    "* Computations represented in the form of a dataflow graph\n",
    "* Each node in the graph represents mathematical opeartions (also called Ops)\n",
    "* Each edge between two nodes represent the flow of data between them\n",
    "* The edges carry data in the form of tensors"
   ]
  },
  {
   "cell_type": "markdown",
   "metadata": {
    "nbpresent": {
     "id": "ec2c7dd9-68d0-4b9e-8e87-8bf7659c90a5"
    }
   },
   "source": [
    "## What are Tensors"
   ]
  },
  {
   "cell_type": "markdown",
   "metadata": {
    "nbpresent": {
     "id": "45bfeadc-b2f7-4ec9-9439-1357a1390c16"
    }
   },
   "source": [
    "An array of numbers arranged on a regular grid with a variable number of axes is known as a tensor.The number of axes or dimenstions of a tensor is called its **rank** (not the same as the matrix rank). Tensors also have a shape and type associated with them. The shape tells us about the dimensionality for each axes. The type of the tensor tells us the type of the values stored (it is similar to the dtype in Numpy arrrasy).\n",
    "\n",
    "\n",
    "\n"
   ]
  },
  {
   "cell_type": "markdown",
   "metadata": {
    "nbpresent": {
     "id": "90979272-0f88-47ad-82da-f6e4e1cee5ca"
    }
   },
   "source": [
    "* A scalar is a tensor with rank 0\n",
    "* A vector is a tensor with rank 1 - ```[1, 2, 5, 10]```\n",
    "* A matrix is a tensor with rank 2 - ```[[1,2,3], [4,5,6]]```"
   ]
  },
  {
   "cell_type": "markdown",
   "metadata": {
    "nbpresent": {
     "id": "74d0957c-3942-4e69-a354-79e9fee6d8a0"
    }
   },
   "source": [
    "### Example of a tensor with rank 3"
   ]
  },
  {
   "cell_type": "code",
   "execution_count": 1,
   "metadata": {
    "collapsed": false,
    "nbpresent": {
     "id": "f94f6553-508f-4cba-bfaf-409727b15782"
    }
   },
   "outputs": [
    {
     "data": {
      "text/plain": [
       "array([[[ 0.94664474,  0.01851108],\n",
       "        [ 0.38778716,  0.83354813]],\n",
       "\n",
       "       [[ 0.18409358,  0.82921094],\n",
       "        [ 0.2964179 ,  0.02957088]]])"
      ]
     },
     "execution_count": 1,
     "metadata": {},
     "output_type": "execute_result"
    }
   ],
   "source": [
    "import numpy as np\n",
    "np.random.random(size=(2,2,2))\n"
   ]
  },
  {
   "cell_type": "markdown",
   "metadata": {},
   "source": [
    "## TensorFlow Ops"
   ]
  },
  {
   "cell_type": "markdown",
   "metadata": {},
   "source": [
    "Nodes in the tensorflow computational graph are called Ops. Each Op can take zero or more tensors as its input, perform some computation and return zero or more tensors as its output"
   ]
  },
  {
   "cell_type": "code",
   "execution_count": 2,
   "metadata": {
    "collapsed": false
   },
   "outputs": [],
   "source": [
    "import tensorflow as tf\n",
    "s = tf.InteractiveSession()\n",
    "a = tf.ones((2, 2))\n",
    "b = tf.random_normal((2,2))"
   ]
  },
  {
   "cell_type": "code",
   "execution_count": 3,
   "metadata": {
    "collapsed": false
   },
   "outputs": [
    {
     "name": "stdout",
     "output_type": "stream",
     "text": [
      "[[ 2.31956816 -0.73275125]\n",
      " [ 2.32252359  0.41596764]]\n",
      "[[ 0.92365468  1.21305847]\n",
      " [ 1.21641445  1.85243404]]\n",
      "[[-0.59276932  0.0529331 ]\n",
      " [-2.15010715 -1.83976769]]\n",
      "[ 0.  0.  0.]\n",
      "[[ 1.  1.  1.]\n",
      " [ 1.  1.  1.]\n",
      " [ 1.  1.  1.]]\n"
     ]
    }
   ],
   "source": [
    "add = tf.add(a, b)\n",
    "print(add.eval())\n",
    "\n",
    "sub = tf.sub(a, b)\n",
    "print(sub.eval())\n",
    "\n",
    "mul = tf.mul(a, b)\n",
    "print(mul.eval())\n",
    "\n",
    "zeros = tf.zeros(shape=(3))\n",
    "print(zeros.eval())\n",
    "\n",
    "ones = tf.ones(shape=(3, 3))\n",
    "print(ones.eval())\n",
    "\n"
   ]
  },
  {
   "cell_type": "markdown",
   "metadata": {},
   "source": [
    "## Constants and Variables in TensorFlow"
   ]
  },
  {
   "cell_type": "code",
   "execution_count": 4,
   "metadata": {
    "collapsed": false
   },
   "outputs": [
    {
     "name": "stdout",
     "output_type": "stream",
     "text": [
      "1\n"
     ]
    }
   ],
   "source": [
    "\n",
    "const1 = tf.constant(1, name='const1')\n",
    "print(const1.eval())\n"
   ]
  },
  {
   "cell_type": "code",
   "execution_count": 5,
   "metadata": {
    "collapsed": false
   },
   "outputs": [
    {
     "name": "stdout",
     "output_type": "stream",
     "text": [
      "[ 1.  1.  1.  1.  1.  1.  1.  1.  1.  1.]\n"
     ]
    }
   ],
   "source": [
    "var1 = tf.Variable(tf.ones(10), name='var1')\n",
    "s.run(tf.initialize_all_variables())\n",
    "print(var1.eval())\n",
    "s.close()\n"
   ]
  },
  {
   "cell_type": "markdown",
   "metadata": {},
   "source": [
    "## Understanding the Computational Graph in TensorFlow"
   ]
  },
  {
   "cell_type": "code",
   "execution_count": 11,
   "metadata": {
    "collapsed": false
   },
   "outputs": [],
   "source": [
    "W = tf.Variable(tf.random_uniform(shape=[10, 1]), name='weights')\n",
    "X = tf.Variable(tf.random_normal(shape=[10, 10]), name='inputs')\n",
    "b = tf.constant(1.0, name='bias')\n",
    "y  = tf.matmul(X, W) + b\n"
   ]
  },
  {
   "cell_type": "code",
   "execution_count": 12,
   "metadata": {
    "collapsed": false
   },
   "outputs": [
    {
     "name": "stdout",
     "output_type": "stream",
     "text": [
      "[[ 3.08249402]\n",
      " [-1.01846361]\n",
      " [ 1.7213757 ]\n",
      " [-0.60330451]\n",
      " [ 3.0793736 ]\n",
      " [ 1.70602655]\n",
      " [ 0.48253602]\n",
      " [-0.60385585]\n",
      " [-1.02587843]\n",
      " [-1.29599142]]\n"
     ]
    }
   ],
   "source": [
    "with tf.Session() as sess:\n",
    "    sess.run(tf.initialize_all_variables())\n",
    "    print(sess.run(y))\n",
    "    \n",
    "    "
   ]
  },
  {
   "cell_type": "markdown",
   "metadata": {
    "collapsed": true
   },
   "source": [
    "![TensorFlow computation graph](imgs/tf_graph.jpg)"
   ]
  },
  {
   "cell_type": "markdown",
   "metadata": {},
   "source": [
    "## Sessions in TensorFlow"
   ]
  },
  {
   "cell_type": "markdown",
   "metadata": {},
   "source": [
    "TensorFlow computational graph is an abstract entity in itself, sessions provide the context in which to run them. If you think of the graph as representing an equation with X and Y variables, the session lets you substitute X and Y with actual values and compute the result of the equation.\n"
   ]
  },
  {
   "cell_type": "code",
   "execution_count": 8,
   "metadata": {
    "collapsed": true
   },
   "outputs": [],
   "source": [
    "tf.reset_default_graph()\n"
   ]
  },
  {
   "cell_type": "code",
   "execution_count": 9,
   "metadata": {
    "collapsed": true
   },
   "outputs": [],
   "source": [
    "X = tf.placeholder(tf.float32, shape=1, name='X')\n",
    "Y = tf.placeholder(tf.float32, shape=1, name='Y')\n",
    "b = tf.constant(1.0)\n",
    "W = X * Y + b"
   ]
  },
  {
   "cell_type": "code",
   "execution_count": 10,
   "metadata": {
    "collapsed": false
   },
   "outputs": [
    {
     "name": "stdout",
     "output_type": "stream",
     "text": [
      "[ 21.]\n"
     ]
    }
   ],
   "source": [
    "with tf.Session() as sess:\n",
    "    print(sess.run(W, feed_dict={X: [10.0], Y: [2.0]}))"
   ]
  },
  {
   "cell_type": "markdown",
   "metadata": {},
   "source": [
    "## Scopes in TensorFlow\n",
    "\n",
    "Scopes are like namespaces for the variables in TensorFlow. It allows us to more conveniently abstract our computational graph. If you don't use any scope, the variables are part of the global namespace and within a large enough graph, clashes might happen."
   ]
  },
  {
   "cell_type": "code",
   "execution_count": 55,
   "metadata": {
    "collapsed": true
   },
   "outputs": [],
   "source": [
    "tf.reset_default_graph()"
   ]
  },
  {
   "cell_type": "code",
   "execution_count": 56,
   "metadata": {
    "collapsed": false
   },
   "outputs": [],
   "source": [
    "var1 = tf.Variable([1.], name='var1')"
   ]
  },
  {
   "cell_type": "code",
   "execution_count": 57,
   "metadata": {
    "collapsed": false
   },
   "outputs": [],
   "source": [
    "with tf.variable_scope('scope1'):\n",
    "    var2 = tf.get_variable(name='var2', shape=[1], initializer=tf.random_normal_initializer())\n"
   ]
  },
  {
   "cell_type": "code",
   "execution_count": 58,
   "metadata": {
    "collapsed": false
   },
   "outputs": [
    {
     "data": {
      "text/plain": [
       "['var1/initial_value',\n",
       " 'var1',\n",
       " 'var1/Assign',\n",
       " 'var1/read',\n",
       " 'scope1/var2',\n",
       " 'scope1/var2/Initializer/random_normal/shape',\n",
       " 'scope1/var2/Initializer/random_normal/mean',\n",
       " 'scope1/var2/Initializer/random_normal/stddev',\n",
       " 'scope1/var2/Initializer/random_normal/RandomStandardNormal',\n",
       " 'scope1/var2/Initializer/random_normal/mul',\n",
       " 'scope1/var2/Initializer/random_normal',\n",
       " 'scope1/var2/Assign',\n",
       " 'scope1/var2/read']"
      ]
     },
     "execution_count": 58,
     "metadata": {},
     "output_type": "execute_result"
    }
   ],
   "source": [
    "[op.name for op in tf.get_default_graph().get_operations()]"
   ]
  },
  {
   "cell_type": "code",
   "execution_count": null,
   "metadata": {
    "collapsed": true
   },
   "outputs": [],
   "source": []
  }
 ],
 "metadata": {
  "anaconda-cloud": {},
  "kernelspec": {
   "display_name": "Python [conda env:cadl]",
   "language": "python",
   "name": "conda-env-cadl-py"
  },
  "language_info": {
   "codemirror_mode": {
    "name": "ipython",
    "version": 3
   },
   "file_extension": ".py",
   "mimetype": "text/x-python",
   "name": "python",
   "nbconvert_exporter": "python",
   "pygments_lexer": "ipython3",
   "version": "3.5.2"
  },
  "nbpresent": {
   "slides": {
    "2916f061-6149-4d1c-8b05-0bccc4c61297": {
     "id": "2916f061-6149-4d1c-8b05-0bccc4c61297",
     "layout": "grid",
     "prev": "b483ff8e-f5cc-4535-8685-21151e0f60b2",
     "regions": {
      "d2aa8767-b75f-42dc-b7f9-0b04de41aa01": {
       "attrs": {
        "height": 1,
        "pad": 0.01,
        "width": 1,
        "x": 0,
        "y": 0
       },
       "content": {
        "cell": "45bfeadc-b2f7-4ec9-9439-1357a1390c16",
        "part": "source"
       },
       "id": "d2aa8767-b75f-42dc-b7f9-0b04de41aa01"
      }
     }
    },
    "362bedbd-eb6e-437f-a68c-61a852c84797": {
     "id": "362bedbd-eb6e-437f-a68c-61a852c84797",
     "prev": "2916f061-6149-4d1c-8b05-0bccc4c61297",
     "regions": {
      "f34f0921-f9a9-4d59-b37c-7dd82e5699cb": {
       "attrs": {
        "height": 1,
        "width": 1,
        "x": 0,
        "y": 0
       },
       "content": {
        "cell": "90979272-0f88-47ad-82da-f6e4e1cee5ca",
        "part": "source"
       },
       "id": "f34f0921-f9a9-4d59-b37c-7dd82e5699cb"
      }
     }
    },
    "38c681af-333c-453b-a3e5-645cbda39387": {
     "id": "38c681af-333c-453b-a3e5-645cbda39387",
     "prev": "b86449f0-c9e5-49a2-a648-eec1dc7e8560",
     "regions": {
      "a70a3cc7-4a93-4294-b78b-09ca0a581ab2": {
       "attrs": {
        "height": 1,
        "width": 1,
        "x": 0,
        "y": 0
       },
       "content": {
        "cell": "63356ef0-a048-4c29-a599-3ad7aeffa58b",
        "part": "source"
       },
       "id": "a70a3cc7-4a93-4294-b78b-09ca0a581ab2"
      }
     }
    },
    "9d6f8e18-2f0c-4bdb-b2ee-9f551d66c807": {
     "id": "9d6f8e18-2f0c-4bdb-b2ee-9f551d66c807",
     "prev": "362bedbd-eb6e-437f-a68c-61a852c84797",
     "regions": {
      "ad3057d3-faed-433a-be41-f335f46ba0cb": {
       "attrs": {
        "height": 1,
        "width": 1,
        "x": 0,
        "y": 0
       },
       "content": {
        "cell": "f94f6553-508f-4cba-bfaf-409727b15782",
        "part": "whole"
       },
       "id": "ad3057d3-faed-433a-be41-f335f46ba0cb"
      }
     }
    },
    "a2ab3330-1f77-4084-9c92-3156bf77cd5e": {
     "id": "a2ab3330-1f77-4084-9c92-3156bf77cd5e",
     "prev": "ef307dd4-c2a5-45b1-933b-9814b19f2e81",
     "regions": {
      "663dc110-ef05-4e8a-925f-83abe48af7d6": {
       "attrs": {
        "height": 0.8,
        "width": 0.8,
        "x": 0.1,
        "y": 0.1
       },
       "content": {
        "cell": "c2bae40e-3c4b-400b-b8ba-4f45f6f499ba",
        "part": "source"
       },
       "id": "663dc110-ef05-4e8a-925f-83abe48af7d6"
      }
     }
    },
    "b483ff8e-f5cc-4535-8685-21151e0f60b2": {
     "id": "b483ff8e-f5cc-4535-8685-21151e0f60b2",
     "prev": "38c681af-333c-453b-a3e5-645cbda39387",
     "regions": {
      "2ad8e7a6-77c9-40db-a651-7f903a24e411": {
       "attrs": {
        "height": 1,
        "width": 1,
        "x": 0,
        "y": 0
       },
       "content": {
        "cell": "ec2c7dd9-68d0-4b9e-8e87-8bf7659c90a5",
        "part": "source"
       },
       "id": "2ad8e7a6-77c9-40db-a651-7f903a24e411"
      }
     }
    },
    "b86449f0-c9e5-49a2-a648-eec1dc7e8560": {
     "id": "b86449f0-c9e5-49a2-a648-eec1dc7e8560",
     "prev": "a2ab3330-1f77-4084-9c92-3156bf77cd5e",
     "regions": {
      "d592a71a-9d25-44b5-8244-0324e22d55b1": {
       "attrs": {
        "height": 1,
        "width": 1,
        "x": 0,
        "y": 0
       },
       "content": {
        "cell": "614a98d7-01e0-428b-9ce5-105c3a8237f2",
        "part": "source"
       },
       "id": "d592a71a-9d25-44b5-8244-0324e22d55b1"
      }
     }
    },
    "ef307dd4-c2a5-45b1-933b-9814b19f2e81": {
     "id": "ef307dd4-c2a5-45b1-933b-9814b19f2e81",
     "layout": "manual",
     "prev": null,
     "regions": {
      "2091a69c-b403-47e0-81df-ed3fd98f8e4a": {
       "attrs": {
        "height": 0.8,
        "width": 0.8,
        "x": 0.08693586698337284,
        "y": 0.09788862496700979
       },
       "content": {
        "cell": "919455e2-a1a3-4b85-b03e-851642bdae3e",
        "part": "source"
       },
       "id": "2091a69c-b403-47e0-81df-ed3fd98f8e4a"
      }
     }
    }
   },
   "themes": {
    "default": "5d2b3edc-1365-4f03-a9b2-3a9e69074144",
    "theme": {
     "0c44d63d-e9a3-4797-84f5-7e41b6786291": {
      "backgrounds": {
       "backgroundColor": {
        "background-color": "backgroundColor",
        "id": "backgroundColor"
       }
      },
      "id": "0c44d63d-e9a3-4797-84f5-7e41b6786291",
      "palette": {
       "backgroundColor": {
        "id": "backgroundColor",
        "rgb": [
         34,
         34,
         34
        ]
       },
       "headingColor": {
        "id": "headingColor",
        "rgb": [
         238,
         238,
         238
        ]
       },
       "linkColor": {
        "id": "linkColor",
        "rgb": [
         170,
         34,
         51
        ]
       },
       "mainColor": {
        "id": "mainColor",
        "rgb": [
         238,
         238,
         238
        ]
       }
      },
      "rules": {
       "a": {
        "color": "linkColor"
       },
       "h1": {
        "color": "headingColor",
        "font-family": "Ubuntu",
        "font-size": 7
       },
       "h2": {
        "color": "headingColor",
        "font-family": "Ubuntu",
        "font-size": 5
       },
       "h3": {
        "color": "headingColor",
        "font-family": "Ubuntu",
        "font-size": 3.75
       },
       "h4": {
        "color": "headingColor",
        "font-family": "Ubuntu",
        "font-size": 3
       },
       "h5": {
        "color": "headingColor",
        "font-family": "Ubuntu"
       },
       "h6": {
        "color": "headingColor",
        "font-family": "Ubuntu"
       },
       "h7": {
        "color": "headingColor",
        "font-family": "Ubuntu"
       },
       "li": {
        "color": "mainColor",
        "font-family": "Ubuntu",
        "font-size": 5
       },
       "p": {
        "color": "mainColor",
        "font-family": "Ubuntu",
        "font-size": 5
       }
      },
      "text-base": {
       "color": "mainColor",
       "font-family": "Ubuntu",
       "font-size": 5
      }
     },
     "5d2b3edc-1365-4f03-a9b2-3a9e69074144": {
      "backgrounds": {
       "dc7afa04-bf90-40b1-82a5-726e3cff5267": {
        "background-color": "31af15d2-7e15-44c5-ab5e-e04b16a89eff",
        "id": "dc7afa04-bf90-40b1-82a5-726e3cff5267"
       }
      },
      "id": "5d2b3edc-1365-4f03-a9b2-3a9e69074144",
      "palette": {
       "19cc588f-0593-49c9-9f4b-e4d7cc113b1c": {
        "id": "19cc588f-0593-49c9-9f4b-e4d7cc113b1c",
        "rgb": [
         252,
         252,
         252
        ]
       },
       "31af15d2-7e15-44c5-ab5e-e04b16a89eff": {
        "id": "31af15d2-7e15-44c5-ab5e-e04b16a89eff",
        "rgb": [
         68,
         68,
         68
        ]
       },
       "50f92c45-a630-455b-aec3-788680ec7410": {
        "id": "50f92c45-a630-455b-aec3-788680ec7410",
        "rgb": [
         197,
         226,
         245
        ]
       },
       "c5cc3653-2ee1-402a-aba2-7caae1da4f6c": {
        "id": "c5cc3653-2ee1-402a-aba2-7caae1da4f6c",
        "rgb": [
         43,
         126,
         184
        ]
       },
       "efa7f048-9acb-414c-8b04-a26811511a21": {
        "id": "efa7f048-9acb-414c-8b04-a26811511a21",
        "rgb": [
         25.118061674008803,
         73.60176211453744,
         107.4819383259912
        ]
       }
      },
      "rules": {
       "a": {
        "color": "19cc588f-0593-49c9-9f4b-e4d7cc113b1c"
       },
       "blockquote": {
        "color": "50f92c45-a630-455b-aec3-788680ec7410",
        "font-size": 3
       },
       "code": {
        "font-family": "Anonymous Pro"
       },
       "h1": {
        "color": "19cc588f-0593-49c9-9f4b-e4d7cc113b1c",
        "font-family": "Merriweather",
        "font-size": 8
       },
       "h2": {
        "color": "19cc588f-0593-49c9-9f4b-e4d7cc113b1c",
        "font-family": "Merriweather",
        "font-size": 6
       },
       "h3": {
        "color": "50f92c45-a630-455b-aec3-788680ec7410",
        "font-family": "Lato",
        "font-size": 5.5
       },
       "h4": {
        "color": "c5cc3653-2ee1-402a-aba2-7caae1da4f6c",
        "font-family": "Lato",
        "font-size": 5
       },
       "h5": {
        "font-family": "Lato"
       },
       "h6": {
        "font-family": "Lato"
       },
       "h7": {
        "font-family": "Lato"
       },
       "li": {
        "color": "50f92c45-a630-455b-aec3-788680ec7410",
        "font-size": 3.25
       },
       "pre": {
        "font-family": "Anonymous Pro",
        "font-size": 4
       }
      },
      "text-base": {
       "color": "19cc588f-0593-49c9-9f4b-e4d7cc113b1c",
       "font-family": "Lato",
       "font-size": 4
      }
     },
     "94adb3c8-5673-46de-9d9d-e59c6135ff83": {
      "backgrounds": {
       "backgroundColor": {
        "background-color": "backgroundColor",
        "id": "backgroundColor"
       }
      },
      "id": "94adb3c8-5673-46de-9d9d-e59c6135ff83",
      "palette": {
       "backgroundColor": {
        "id": "backgroundColor",
        "rgb": [
         247,
         243,
         222
        ]
       },
       "headingColor": {
        "id": "headingColor",
        "rgb": [
         51,
         51,
         51
        ]
       },
       "linkColor": {
        "id": "linkColor",
        "rgb": [
         139,
         116,
         61
        ]
       },
       "mainColor": {
        "id": "mainColor",
        "rgb": [
         51,
         51,
         51
        ]
       }
      },
      "rules": {
       "a": {
        "color": "linkColor"
       },
       "h1": {
        "color": "headingColor",
        "font-family": "Oswald",
        "font-size": 7
       },
       "h2": {
        "color": "headingColor",
        "font-family": "Oswald",
        "font-size": 5
       },
       "h3": {
        "color": "headingColor",
        "font-family": "Oswald",
        "font-size": 3.75
       },
       "h4": {
        "color": "headingColor",
        "font-family": "Oswald",
        "font-size": 3
       },
       "h5": {
        "color": "headingColor",
        "font-family": "Oswald"
       },
       "h6": {
        "color": "headingColor",
        "font-family": "Oswald"
       },
       "h7": {
        "color": "headingColor",
        "font-family": "Oswald"
       },
       "li": {
        "color": "mainColor",
        "font-family": "Lato",
        "font-size": 5
       },
       "p": {
        "color": "mainColor",
        "font-family": "Lato",
        "font-size": 5
       }
      },
      "text-base": {
       "color": "mainColor",
       "font-family": "Lato",
       "font-size": 5
      }
     },
     "e9c97542-0657-4d58-b7ad-87d264486084": {
      "backgrounds": {
       "dc7afa04-bf90-40b1-82a5-726e3cff5267": {
        "background-color": "31af15d2-7e15-44c5-ab5e-e04b16a89eff",
        "id": "dc7afa04-bf90-40b1-82a5-726e3cff5267"
       }
      },
      "id": "e9c97542-0657-4d58-b7ad-87d264486084",
      "palette": {
       "19cc588f-0593-49c9-9f4b-e4d7cc113b1c": {
        "id": "19cc588f-0593-49c9-9f4b-e4d7cc113b1c",
        "rgb": [
         252,
         252,
         252
        ]
       },
       "31af15d2-7e15-44c5-ab5e-e04b16a89eff": {
        "id": "31af15d2-7e15-44c5-ab5e-e04b16a89eff",
        "rgb": [
         68,
         68,
         68
        ]
       },
       "50f92c45-a630-455b-aec3-788680ec7410": {
        "id": "50f92c45-a630-455b-aec3-788680ec7410",
        "rgb": [
         197,
         226,
         245
        ]
       },
       "c5cc3653-2ee1-402a-aba2-7caae1da4f6c": {
        "id": "c5cc3653-2ee1-402a-aba2-7caae1da4f6c",
        "rgb": [
         43,
         126,
         184
        ]
       },
       "efa7f048-9acb-414c-8b04-a26811511a21": {
        "id": "efa7f048-9acb-414c-8b04-a26811511a21",
        "rgb": [
         25.118061674008803,
         73.60176211453744,
         107.4819383259912
        ]
       }
      },
      "rules": {
       "a": {
        "color": "19cc588f-0593-49c9-9f4b-e4d7cc113b1c"
       },
       "blockquote": {
        "color": "50f92c45-a630-455b-aec3-788680ec7410",
        "font-size": 3
       },
       "code": {
        "font-family": "Anonymous Pro"
       },
       "h1": {
        "color": "19cc588f-0593-49c9-9f4b-e4d7cc113b1c",
        "font-family": "Merriweather",
        "font-size": 8
       },
       "h2": {
        "color": "19cc588f-0593-49c9-9f4b-e4d7cc113b1c",
        "font-family": "Merriweather",
        "font-size": 6
       },
       "h3": {
        "color": "50f92c45-a630-455b-aec3-788680ec7410",
        "font-family": "Lato",
        "font-size": 5.5
       },
       "h4": {
        "color": "c5cc3653-2ee1-402a-aba2-7caae1da4f6c",
        "font-family": "Lato",
        "font-size": 5
       },
       "h5": {
        "font-family": "Lato"
       },
       "h6": {
        "font-family": "Lato"
       },
       "h7": {
        "font-family": "Lato"
       },
       "li": {
        "color": "50f92c45-a630-455b-aec3-788680ec7410",
        "font-size": 3.25
       },
       "pre": {
        "font-family": "Anonymous Pro",
        "font-size": 4
       }
      },
      "text-base": {
       "color": "19cc588f-0593-49c9-9f4b-e4d7cc113b1c",
       "font-family": "Lato",
       "font-size": 4
      }
     }
    }
   }
  }
 },
 "nbformat": 4,
 "nbformat_minor": 1
}
